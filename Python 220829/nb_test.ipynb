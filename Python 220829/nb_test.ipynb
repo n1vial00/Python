{
 "cells": [
  {
   "cell_type": "code",
   "execution_count": 2,
   "metadata": {},
   "outputs": [],
   "source": [
    "import numpy as np\n",
    "np.nanmean(2)\n",
    "\n",
    "from numpy import nanmean as special_mean_function"
   ]
  }
 ],
 "metadata": {
  "kernelspec": {
   "display_name": "Python 3.10.6 64-bit",
   "language": "python",
   "name": "python3"
  },
  "language_info": {
   "codemirror_mode": {
    "name": "ipython",
    "version": 3
   },
   "file_extension": ".py",
   "mimetype": "text/x-python",
   "name": "python",
   "nbconvert_exporter": "python",
   "pygments_lexer": "ipython3",
   "version": "3.10.6"
  },
  "orig_nbformat": 4,
  "vscode": {
   "interpreter": {
    "hash": "0769920e7ea980ff1bafd8da4241aa22a6f649661ef9600db18e8423c6fd6674"
   }
  }
 },
 "nbformat": 4,
 "nbformat_minor": 2
}
